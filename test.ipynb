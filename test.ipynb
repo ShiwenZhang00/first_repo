{
 "cells": [
  {
   "cell_type": "code",
   "execution_count": null,
   "metadata": {},
   "outputs": [],
   "source": []
  }
 ],
 "metadata": {
  "kernelspec": {
   "display_name": "Python 3.10.2 64-bit",
   "language": "python",
   "name": "python3"
  },
  "language_info": {
   "name": "python",
   "version": "3.10.2"
  },
  "orig_nbformat": 4,
  "vscode": {
   "interpreter": {
    "hash": "05a629c9c7b14384ba00a8fbe4f2a5b47d4fe048899e3fe7dc11230dbb9987fb"
   }
  }
 },
 "nbformat": 4,
 "nbformat_minor": 2
}
